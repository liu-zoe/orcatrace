{
 "cells": [
  {
   "attachments": {},
   "cell_type": "markdown",
   "metadata": {},
   "source": [
    "## Project Name: Orcasound Salmon\n",
    "### Program Name: noaa_ais_shipping_traffic.ipynb\n",
    "### Purpose: To explore and visualize the shipping traffic off the west coast using NOAA AIS archives\n",
    "##### Date Created: Apr 22 2023"
   ]
  },
  {
   "cell_type": "code",
   "execution_count": 14,
   "metadata": {},
   "outputs": [],
   "source": [
    "import os \n",
    "from os.path import join as pjoin \n",
    "import datetime \n",
    "import pandas as pd\n",
    "import pytz \n",
    "from pytz import timezone \n",
    "import numpy as np \n",
    "import transbigdata as tbd\n",
    "import keplergl\n",
    "from keplergl import KeplerGl"
   ]
  },
  {
   "attachments": {},
   "cell_type": "markdown",
   "metadata": {},
   "source": [
    "Define path and data file"
   ]
  },
  {
   "cell_type": "code",
   "execution_count": 25,
   "metadata": {},
   "outputs": [],
   "source": [
    "base_path=os.path.abspath('')\n",
    "data_path=pjoin(base_path, \"data\")\n",
    "ship_fname=[\"AIS_2016_02_24.csv\"]\n",
    "srkw_data_fname=\"SRKW occurrence coastal - SRKW occurrence coastal Data.csv\""
   ]
  },
  {
   "attachments": {},
   "cell_type": "markdown",
   "metadata": {},
   "source": [
    "Processing orca data"
   ]
  },
  {
   "cell_type": "code",
   "execution_count": 50,
   "metadata": {},
   "outputs": [],
   "source": [
    "srkw_data=pd.read_csv(pjoin(data_path, srkw_data_fname))\n",
    "srkw_data=srkw_data.rename(columns={'Lat P':'lat_p', 'Lon P':'lon_p', 'Lat A':'lat_a','Lon A':'lon_a'})\n",
    "srkw_data=srkw_data[['Animal', 'lat_p', 'lon_p', 'lat_a',\n",
    "       'lon_a', 'Dur', 'Sex', 'Popid', \n",
    "       'Month', 'Day', 'Year', 'Hour', 'Minute', 'Second']]\n",
    "srkw_data['Popid']=srkw_data['Popid'].apply(lambda x: x.replace(' ',''))"
   ]
  },
  {
   "attachments": {},
   "cell_type": "markdown",
   "metadata": {},
   "source": [
    "Convert GMT time to Pacific time"
   ]
  },
  {
   "cell_type": "code",
   "execution_count": 15,
   "metadata": {},
   "outputs": [],
   "source": [
    "def gmt2pst(yr,mon,day,h,m,s):\n",
    "    tz=pytz.timezone('GMT')\n",
    "    _date1=datetime.datetime(yr, mon, day,h,m,s, tzinfo=tz)\n",
    "    _date2=_date1.astimezone(timezone('US/Pacific'))\n",
    "    return(_date2)"
   ]
  },
  {
   "attachments": {},
   "cell_type": "markdown",
   "metadata": {},
   "source": [
    "Add a numerical day with 0 being the day of the earliest record for each orca"
   ]
  },
  {
   "cell_type": "code",
   "execution_count": 17,
   "metadata": {},
   "outputs": [],
   "source": [
    "def orcaday(dat):\n",
    "    day0=min(dat['date'])\n",
    "    dat['day_move']=dat['date'].apply(lambda x: x-day0)"
   ]
  },
  {
   "attachments": {},
   "cell_type": "markdown",
   "metadata": {},
   "source": [
    "Use alternative longitude and latitude values when the primary values are out of bound"
   ]
  },
  {
   "cell_type": "code",
   "execution_count": 18,
   "metadata": {},
   "outputs": [],
   "source": [
    "def geogen(dat):\n",
    "    import numpy as np\n",
    "    dat['lon']=np.where(dat['lon_p']>-120, dat['lon_a'],dat['lon_p'])\n",
    "    dat['lat']=np.where(dat['lon_p']>-120, dat['lat_a'],dat['lat_p'])"
   ]
  },
  {
   "cell_type": "code",
   "execution_count": 51,
   "metadata": {},
   "outputs": [
    {
     "name": "stderr",
     "output_type": "stream",
     "text": [
      "/var/folders/ys/_3dkbpp11vz9cw3rgqq0kj540000gn/T/ipykernel_51148/2174696341.py:3: SettingWithCopyWarning: \n",
      "A value is trying to be set on a copy of a slice from a DataFrame.\n",
      "Try using .loc[row_indexer,col_indexer] = value instead\n",
      "\n",
      "See the caveats in the documentation: https://pandas.pydata.org/pandas-docs/stable/user_guide/indexing.html#returning-a-view-versus-a-copy\n",
      "  dat['lon']=np.where(dat['lon_p']>-120, dat['lon_a'],dat['lon_p'])\n",
      "/var/folders/ys/_3dkbpp11vz9cw3rgqq0kj540000gn/T/ipykernel_51148/2174696341.py:4: SettingWithCopyWarning: \n",
      "A value is trying to be set on a copy of a slice from a DataFrame.\n",
      "Try using .loc[row_indexer,col_indexer] = value instead\n",
      "\n",
      "See the caveats in the documentation: https://pandas.pydata.org/pandas-docs/stable/user_guide/indexing.html#returning-a-view-versus-a-copy\n",
      "  dat['lat']=np.where(dat['lon_p']>-120, dat['lat_a'],dat['lat_p'])\n"
     ]
    }
   ],
   "source": [
    "srkw_data['datetime_pst']=srkw_data.apply(lambda x: gmt2pst(x.Year, x.Month, x.Day, x.Hour, x.Minute, x.Second), axis=1)\n",
    "srkw_data=srkw_data.drop(columns=['Year','Month','Day','Hour','Minute','Second'])\n",
    "srkw_data['date']=srkw_data.apply(lambda x: x.datetime_pst.date(), axis=1)\n",
    "srkw_data['time']=srkw_data.apply(lambda x: x.datetime_pst.time(), axis=1)\n",
    "srkw_data['year']=srkw_data.apply(lambda x: x.date.year, axis=1)\n",
    "srkw_data['month']=srkw_data.apply(lambda x: x.date.month, axis=1)\n",
    "srkw_data['day']=srkw_data.apply(lambda x: x.date.day, axis=1)\n",
    "srkw_data['hour']=srkw_data.apply(lambda x: x.time.hour, axis=1)\n",
    "srkw_data['minute']=srkw_data.apply(lambda x: x.time.minute, axis=1)\n",
    "srkw_data['second']=srkw_data.apply(lambda x: x.time.second, axis=1)\n",
    "data_l95=srkw_data[srkw_data.Popid=='L95']\n",
    "geogen(data_l95)"
   ]
  },
  {
   "cell_type": "code",
   "execution_count": 52,
   "metadata": {},
   "outputs": [
    {
     "name": "stderr",
     "output_type": "stream",
     "text": [
      "/var/folders/ys/_3dkbpp11vz9cw3rgqq0kj540000gn/T/ipykernel_51148/2160943547.py:1: SettingWithCopyWarning: \n",
      "A value is trying to be set on a copy of a slice from a DataFrame.\n",
      "Try using .loc[row_indexer,col_indexer] = value instead\n",
      "\n",
      "See the caveats in the documentation: https://pandas.pydata.org/pandas-docs/stable/user_guide/indexing.html#returning-a-view-versus-a-copy\n",
      "  data_l95['id']='L95'\n"
     ]
    }
   ],
   "source": [
    "data_l95['id']='L95'"
   ]
  },
  {
   "attachments": {},
   "cell_type": "markdown",
   "metadata": {},
   "source": [
    "Find out long and lat range for L95"
   ]
  },
  {
   "cell_type": "code",
   "execution_count": 61,
   "metadata": {},
   "outputs": [
    {
     "name": "stdout",
     "output_type": "stream",
     "text": [
      "min lat:  46.141 max lat:  47.517\n",
      "min lon:  -124.779 max lon:  -124.074\n"
     ]
    }
   ],
   "source": [
    "lat_min=min(data_l95['lat'])\n",
    "lat_max=max(data_l95['lat'])\n",
    "lon_min=min(data_l95['lon'])\n",
    "lon_max=max(data_l95['lon'])\n",
    "print('min lat: ', lat_min, 'max lat: ', lat_max)\n",
    "print('min lon: ', lon_min, 'max lon: ', lon_max)"
   ]
  },
  {
   "attachments": {},
   "cell_type": "markdown",
   "metadata": {},
   "source": [
    "Processing traffic data"
   ]
  },
  {
   "attachments": {},
   "cell_type": "markdown",
   "metadata": {},
   "source": [
    "FAQ about the data: https://coast.noaa.gov/data/marinecadastre/ais/faq.pdf "
   ]
  },
  {
   "cell_type": "code",
   "execution_count": null,
   "metadata": {},
   "outputs": [],
   "source": [
    "ship160224_data=pd.read_csv(pjoin(data_path, ship_fname[0]))"
   ]
  },
  {
   "cell_type": "code",
   "execution_count": 38,
   "metadata": {},
   "outputs": [],
   "source": [
    "ship160224_data['datetime_utc']=ship160224_data['BaseDateTime'].apply(lambda x: datetime.datetime.strptime(x, \"%Y-%m-%dT%H:%M:%S\"))"
   ]
  },
  {
   "cell_type": "code",
   "execution_count": 43,
   "metadata": {},
   "outputs": [],
   "source": [
    "ship160224_data['datetime_pst']=ship160224_data['datetime_utc'].apply(lambda x: x.tz_localize('UTC').tz_convert('US/Pacific'))"
   ]
  },
  {
   "attachments": {},
   "cell_type": "markdown",
   "metadata": {},
   "source": [
    "Check date conversion"
   ]
  },
  {
   "cell_type": "code",
   "execution_count": 48,
   "metadata": {},
   "outputs": [
    {
     "name": "stdout",
     "output_type": "stream",
     "text": [
      "2016-02-24T00:01:04\n",
      "2016-02-24 00:01:04\n",
      "2016-02-23 16:01:04-08:00\n"
     ]
    }
   ],
   "source": [
    "print(ship160224_data['BaseDateTime'][1])\n",
    "print(ship160224_data['datetime_utc'][1])\n",
    "print(ship160224_data['datetime_pst'][1])"
   ]
  },
  {
   "cell_type": "code",
   "execution_count": 63,
   "metadata": {},
   "outputs": [],
   "source": [
    "ship160224_data=ship160224_data.rename(columns={'LON':'lon','LAT':'lat', 'VesselName':'id'})\n",
    "ship160224_crop=ship160224_data[(ship160224_data.lat<=lat_max) & (ship160224_data.lat>=lat_min) & (ship160224_data.lon<=lon_max) & (ship160224_data.lon>=lon_min)]"
   ]
  },
  {
   "cell_type": "code",
   "execution_count": 71,
   "metadata": {},
   "outputs": [],
   "source": [
    "ship_orca=pd.concat([ship160224_crop[['lon','lat','datetime_pst','id']], data_l95[['lon','lat','datetime_pst','id']]])"
   ]
  },
  {
   "cell_type": "code",
   "execution_count": 75,
   "metadata": {},
   "outputs": [],
   "source": [
    "ship_orca.to_csv(pjoin(data_path, \"shiporca_20160224.csv\"), index=False)"
   ]
  },
  {
   "attachments": {},
   "cell_type": "markdown",
   "metadata": {},
   "source": [
    "L95 movement"
   ]
  },
  {
   "cell_type": "code",
   "execution_count": 72,
   "metadata": {},
   "outputs": [
    {
     "name": "stdout",
     "output_type": "stream",
     "text": [
      "Processing trajectory data...\n",
      "Generate visualization...\n",
      "User Guide: https://docs.kepler.gl/docs/keplergl-jupyter\n"
     ]
    },
    {
     "data": {
      "application/vnd.jupyter.widget-view+json": {
       "model_id": "c34367f372324af593bce2f4b7e54287",
       "version_major": 2,
       "version_minor": 0
      },
      "text/plain": [
       "KeplerGl(config={'version': 'v1', 'config': {'visState': {'filters': [], 'layers': [{'id': 'hizm36i', 'type': …"
      ]
     },
     "metadata": {},
     "output_type": "display_data"
    }
   ],
   "source": [
    "tbd.visualization_trip(data_l95, col=['lon', 'lat', 'id', 'datetime_pst'],)"
   ]
  },
  {
   "attachments": {},
   "cell_type": "markdown",
   "metadata": {},
   "source": [
    "L95+Shipps movement"
   ]
  },
  {
   "cell_type": "code",
   "execution_count": 73,
   "metadata": {},
   "outputs": [
    {
     "name": "stdout",
     "output_type": "stream",
     "text": [
      "Processing trajectory data...\n",
      "Generate visualization...\n",
      "User Guide: https://docs.kepler.gl/docs/keplergl-jupyter\n"
     ]
    },
    {
     "data": {
      "application/vnd.jupyter.widget-view+json": {
       "model_id": "777930297b594d90a78746e8e8502393",
       "version_major": 2,
       "version_minor": 0
      },
      "text/plain": [
       "KeplerGl(config={'version': 'v1', 'config': {'visState': {'filters': [], 'layers': [{'id': 'hizm36i', 'type': …"
      ]
     },
     "metadata": {},
     "output_type": "display_data"
    }
   ],
   "source": [
    "tbd.visualization_trip(ship_orca, col=['lon', 'lat', 'id', 'datetime_pst'],)"
   ]
  }
 ],
 "metadata": {
  "kernelspec": {
   "display_name": "orcatrace_venv",
   "language": "python",
   "name": "python3"
  },
  "language_info": {
   "codemirror_mode": {
    "name": "ipython",
    "version": 3
   },
   "file_extension": ".py",
   "mimetype": "text/x-python",
   "name": "python",
   "nbconvert_exporter": "python",
   "pygments_lexer": "ipython3",
   "version": "3.8.5"
  },
  "orig_nbformat": 4
 },
 "nbformat": 4,
 "nbformat_minor": 2
}
